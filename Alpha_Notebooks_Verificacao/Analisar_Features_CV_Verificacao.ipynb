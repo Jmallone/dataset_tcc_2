{
 "cells": [
  {
   "cell_type": "code",
   "execution_count": 2,
   "id": "32c922c3",
   "metadata": {},
   "outputs": [],
   "source": [
    "import numpy as np\n",
    "import pandas as pd"
   ]
  },
  {
   "cell_type": "code",
   "execution_count": 3,
   "id": "da6e8eff",
   "metadata": {},
   "outputs": [],
   "source": [
    "BSIF = np.load('resultados_npy/BSIF.npy', allow_pickle=True)[0]\n",
    "LBP = np.load('resultados_npy/LBP.npy', allow_pickle=True)[0]\n",
    "LPQ = np.load('resultados_npy/LPQ.npy', allow_pickle=True)[0]\n",
    "MOBILENET = np.load('resultados_npy/MobileNet.npy', allow_pickle=True)[0]\n",
    "VGG = np.load('resultados_npy/VGG16.npy', allow_pickle=True)[0]"
   ]
  },
  {
   "cell_type": "code",
   "execution_count": 4,
   "id": "94201850",
   "metadata": {},
   "outputs": [
    {
     "data": {
      "text/plain": [
       "\"\\n    BSIF[1] # classe 1 \\n    BSIF[1][3] # classe 1, patch 3\\n    BSIF[1][3]['f1_all'] # classe 1, patch 3, all f1-score = Folds [ 1, 2, 3, 4, 5]\\n\""
      ]
     },
     "execution_count": 4,
     "metadata": {},
     "output_type": "execute_result"
    }
   ],
   "source": [
    "'''\n",
    "    BSIF[1] # classe 1 \n",
    "    BSIF[1][3] # classe 1, patch 3\n",
    "    BSIF[1][3]['f1_all'] # classe 1, patch 3, all f1-score = Folds [ 1, 2, 3, 4, 5]\n",
    "'''"
   ]
  },
  {
   "cell_type": "code",
   "execution_count": 5,
   "id": "3c9bc49f",
   "metadata": {},
   "outputs": [],
   "source": [
    "# df = pd.DataFrame(BSIF[1][3]['f1_all'])"
   ]
  },
  {
   "cell_type": "code",
   "execution_count": 6,
   "id": "16a9ad55",
   "metadata": {},
   "outputs": [],
   "source": [
    "# df = pd.DataFrame(BSIF)"
   ]
  },
  {
   "cell_type": "code",
   "execution_count": 7,
   "id": "157983bd",
   "metadata": {},
   "outputs": [],
   "source": [
    "# BSIF[1][1]['f1_all']"
   ]
  },
  {
   "cell_type": "markdown",
   "id": "0671a50b",
   "metadata": {},
   "source": [
    "# Fazer todos os patch 3"
   ]
  },
  {
   "cell_type": "code",
   "execution_count": 4,
   "id": "58dd5bd2",
   "metadata": {},
   "outputs": [],
   "source": [
    "patch3_five = []\n",
    "patch3_all = []\n",
    "for classe in range(1,81):\n",
    "    patch3_all.append(BSIF[classe][3]['f1_all']) # classe 1, patch 3, all f1-score\n",
    "    patch3_five.append(BSIF[classe][3]['f1_five']) # classe 1, patch 3, all f1-score"
   ]
  },
  {
   "cell_type": "code",
   "execution_count": 5,
   "id": "d6888166",
   "metadata": {},
   "outputs": [
    {
     "data": {
      "text/html": [
       "<div>\n",
       "<style scoped>\n",
       "    .dataframe tbody tr th:only-of-type {\n",
       "        vertical-align: middle;\n",
       "    }\n",
       "\n",
       "    .dataframe tbody tr th {\n",
       "        vertical-align: top;\n",
       "    }\n",
       "\n",
       "    .dataframe thead th {\n",
       "        text-align: right;\n",
       "    }\n",
       "</style>\n",
       "<table border=\"1\" class=\"dataframe\">\n",
       "  <thead>\n",
       "    <tr style=\"text-align: right;\">\n",
       "      <th></th>\n",
       "      <th>0</th>\n",
       "      <th>1</th>\n",
       "      <th>2</th>\n",
       "      <th>3</th>\n",
       "      <th>4</th>\n",
       "    </tr>\n",
       "  </thead>\n",
       "  <tbody>\n",
       "    <tr>\n",
       "      <th>count</th>\n",
       "      <td>80.000000</td>\n",
       "      <td>80.000000</td>\n",
       "      <td>80.000000</td>\n",
       "      <td>80.000000</td>\n",
       "      <td>80.000000</td>\n",
       "    </tr>\n",
       "    <tr>\n",
       "      <th>mean</th>\n",
       "      <td>0.817088</td>\n",
       "      <td>0.825463</td>\n",
       "      <td>0.825000</td>\n",
       "      <td>0.826136</td>\n",
       "      <td>0.791372</td>\n",
       "    </tr>\n",
       "    <tr>\n",
       "      <th>std</th>\n",
       "      <td>0.107766</td>\n",
       "      <td>0.109676</td>\n",
       "      <td>0.112764</td>\n",
       "      <td>0.111600</td>\n",
       "      <td>0.097322</td>\n",
       "    </tr>\n",
       "    <tr>\n",
       "      <th>min</th>\n",
       "      <td>0.666667</td>\n",
       "      <td>0.666667</td>\n",
       "      <td>0.666667</td>\n",
       "      <td>0.666667</td>\n",
       "      <td>0.666667</td>\n",
       "    </tr>\n",
       "    <tr>\n",
       "      <th>25%</th>\n",
       "      <td>0.757576</td>\n",
       "      <td>0.757576</td>\n",
       "      <td>0.757576</td>\n",
       "      <td>0.757576</td>\n",
       "      <td>0.757576</td>\n",
       "    </tr>\n",
       "    <tr>\n",
       "      <th>50%</th>\n",
       "      <td>0.757576</td>\n",
       "      <td>0.757576</td>\n",
       "      <td>0.757576</td>\n",
       "      <td>0.757576</td>\n",
       "      <td>0.757576</td>\n",
       "    </tr>\n",
       "    <tr>\n",
       "      <th>75%</th>\n",
       "      <td>0.888889</td>\n",
       "      <td>1.000000</td>\n",
       "      <td>1.000000</td>\n",
       "      <td>1.000000</td>\n",
       "      <td>0.757576</td>\n",
       "    </tr>\n",
       "    <tr>\n",
       "      <th>max</th>\n",
       "      <td>1.000000</td>\n",
       "      <td>1.000000</td>\n",
       "      <td>1.000000</td>\n",
       "      <td>1.000000</td>\n",
       "      <td>1.000000</td>\n",
       "    </tr>\n",
       "  </tbody>\n",
       "</table>\n",
       "</div>"
      ],
      "text/plain": [
       "               0          1          2          3          4\n",
       "count  80.000000  80.000000  80.000000  80.000000  80.000000\n",
       "mean    0.817088   0.825463   0.825000   0.826136   0.791372\n",
       "std     0.107766   0.109676   0.112764   0.111600   0.097322\n",
       "min     0.666667   0.666667   0.666667   0.666667   0.666667\n",
       "25%     0.757576   0.757576   0.757576   0.757576   0.757576\n",
       "50%     0.757576   0.757576   0.757576   0.757576   0.757576\n",
       "75%     0.888889   1.000000   1.000000   1.000000   0.757576\n",
       "max     1.000000   1.000000   1.000000   1.000000   1.000000"
      ]
     },
     "execution_count": 5,
     "metadata": {},
     "output_type": "execute_result"
    }
   ],
   "source": [
    "BSIF_p3_ = pd.DataFrame(patch3_five)\n",
    "BSIF_p3_.describe()"
   ]
  },
  {
   "cell_type": "code",
   "execution_count": 6,
   "id": "cca6eb3d",
   "metadata": {
    "scrolled": true
   },
   "outputs": [
    {
     "data": {
      "text/html": [
       "<div>\n",
       "<style scoped>\n",
       "    .dataframe tbody tr th:only-of-type {\n",
       "        vertical-align: middle;\n",
       "    }\n",
       "\n",
       "    .dataframe tbody tr th {\n",
       "        vertical-align: top;\n",
       "    }\n",
       "\n",
       "    .dataframe thead th {\n",
       "        text-align: right;\n",
       "    }\n",
       "</style>\n",
       "<table border=\"1\" class=\"dataframe\">\n",
       "  <thead>\n",
       "    <tr style=\"text-align: right;\">\n",
       "      <th></th>\n",
       "      <th>0</th>\n",
       "      <th>1</th>\n",
       "      <th>2</th>\n",
       "      <th>3</th>\n",
       "      <th>4</th>\n",
       "    </tr>\n",
       "  </thead>\n",
       "  <tbody>\n",
       "    <tr>\n",
       "      <th>count</th>\n",
       "      <td>80.000000</td>\n",
       "      <td>80.000000</td>\n",
       "      <td>80.000000</td>\n",
       "      <td>80.000000</td>\n",
       "      <td>80.000000</td>\n",
       "    </tr>\n",
       "    <tr>\n",
       "      <th>mean</th>\n",
       "      <td>0.972034</td>\n",
       "      <td>0.974622</td>\n",
       "      <td>0.968033</td>\n",
       "      <td>0.974909</td>\n",
       "      <td>0.963661</td>\n",
       "    </tr>\n",
       "    <tr>\n",
       "      <th>std</th>\n",
       "      <td>0.024981</td>\n",
       "      <td>0.017246</td>\n",
       "      <td>0.029923</td>\n",
       "      <td>0.013076</td>\n",
       "      <td>0.023971</td>\n",
       "    </tr>\n",
       "    <tr>\n",
       "      <th>min</th>\n",
       "      <td>0.854433</td>\n",
       "      <td>0.893056</td>\n",
       "      <td>0.793885</td>\n",
       "      <td>0.930125</td>\n",
       "      <td>0.885345</td>\n",
       "    </tr>\n",
       "    <tr>\n",
       "      <th>25%</th>\n",
       "      <td>0.968631</td>\n",
       "      <td>0.968631</td>\n",
       "      <td>0.962179</td>\n",
       "      <td>0.968631</td>\n",
       "      <td>0.955645</td>\n",
       "    </tr>\n",
       "    <tr>\n",
       "      <th>50%</th>\n",
       "      <td>0.981289</td>\n",
       "      <td>0.981289</td>\n",
       "      <td>0.981289</td>\n",
       "      <td>0.981090</td>\n",
       "      <td>0.974194</td>\n",
       "    </tr>\n",
       "    <tr>\n",
       "      <th>75%</th>\n",
       "      <td>0.981289</td>\n",
       "      <td>0.981289</td>\n",
       "      <td>0.981289</td>\n",
       "      <td>0.981289</td>\n",
       "      <td>0.981289</td>\n",
       "    </tr>\n",
       "    <tr>\n",
       "      <th>max</th>\n",
       "      <td>1.000000</td>\n",
       "      <td>1.000000</td>\n",
       "      <td>1.000000</td>\n",
       "      <td>1.000000</td>\n",
       "      <td>1.000000</td>\n",
       "    </tr>\n",
       "  </tbody>\n",
       "</table>\n",
       "</div>"
      ],
      "text/plain": [
       "               0          1          2          3          4\n",
       "count  80.000000  80.000000  80.000000  80.000000  80.000000\n",
       "mean    0.972034   0.974622   0.968033   0.974909   0.963661\n",
       "std     0.024981   0.017246   0.029923   0.013076   0.023971\n",
       "min     0.854433   0.893056   0.793885   0.930125   0.885345\n",
       "25%     0.968631   0.968631   0.962179   0.968631   0.955645\n",
       "50%     0.981289   0.981289   0.981289   0.981090   0.974194\n",
       "75%     0.981289   0.981289   0.981289   0.981289   0.981289\n",
       "max     1.000000   1.000000   1.000000   1.000000   1.000000"
      ]
     },
     "execution_count": 6,
     "metadata": {},
     "output_type": "execute_result"
    }
   ],
   "source": [
    "BSIF_p3__ = pd.DataFrame(patch3_all)\n",
    "BSIF_p3__.describe()"
   ]
  },
  {
   "cell_type": "markdown",
   "id": "e8d8eeb6",
   "metadata": {},
   "source": [
    "# Generalizando"
   ]
  },
  {
   "cell_type": "code",
   "execution_count": null,
   "id": "0e3eccbe",
   "metadata": {},
   "outputs": [],
   "source": []
  },
  {
   "cell_type": "code",
   "execution_count": 5,
   "id": "54521524",
   "metadata": {},
   "outputs": [],
   "source": [
    "d = {\n",
    "    'BSIF': {\n",
    "        'PATCH 1': {'f1_five': {}, 'f1_all': {} },\n",
    "        'PATCH 3': {'f1_five': {}, 'f1_all': {} }, \n",
    "        'PATCH 5': {'f1_five': {}, 'f1_all': {} }, \n",
    "        'PATCH 10': {'f1_five': {}, 'f1_all': {} }\n",
    "    },\n",
    "    'LBP': {\n",
    "        'PATCH 1': {'f1_five': {}, 'f1_all': {} },\n",
    "        'PATCH 3': {'f1_five': {}, 'f1_all': {} }, \n",
    "        'PATCH 5': {'f1_five': {}, 'f1_all': {} }, \n",
    "        'PATCH 10': {'f1_five': {}, 'f1_all': {} }\n",
    "    },\n",
    "    'LPQ': {\n",
    "        'PATCH 1': {'f1_five': {}, 'f1_all': {} },\n",
    "        'PATCH 3': {'f1_five': {}, 'f1_all': {} }, \n",
    "        'PATCH 5': {'f1_five': {}, 'f1_all': {} }, \n",
    "        'PATCH 10': {'f1_five': {}, 'f1_all': {} }\n",
    "    },\n",
    "    'MobileNet': {\n",
    "        'PATCH 1': {'f1_five': {}, 'f1_all': {} },\n",
    "        'PATCH 3': {'f1_five': {}, 'f1_all': {} }, \n",
    "        'PATCH 5': {'f1_five': {}, 'f1_all': {} }, \n",
    "        'PATCH 10': {'f1_five': {}, 'f1_all': {} }\n",
    "    },\n",
    "    'VGG16': {\n",
    "        'PATCH 1': {'f1_five': {}, 'f1_all': {} },\n",
    "        'PATCH 3': {'f1_five': {}, 'f1_all': {} }, \n",
    "        'PATCH 5': {'f1_five': {}, 'f1_all': {} }, \n",
    "        'PATCH 10': {'f1_five': {}, 'f1_all': {} }\n",
    "    },\n",
    "}"
   ]
  },
  {
   "cell_type": "code",
   "execution_count": 6,
   "id": "1050ccb2",
   "metadata": {},
   "outputs": [],
   "source": [
    "''' Apenas MobileNet e VGG começam do 0 e vão até o 79 nas suas KEys da list '''\n",
    "def oddKeys(myList):\n",
    "    tmpList = {}\n",
    "    for i in list(myList.keys()):\n",
    "        tmpList[i+1] = myList.pop(i)\n",
    "    \n",
    "    return tmpList\n",
    "    "
   ]
  },
  {
   "cell_type": "code",
   "execution_count": 7,
   "id": "018b3739",
   "metadata": {},
   "outputs": [],
   "source": [
    "MOBILENET = oddKeys(MOBILENET)"
   ]
  },
  {
   "cell_type": "code",
   "execution_count": 8,
   "id": "d0ad4f89",
   "metadata": {},
   "outputs": [],
   "source": [
    "VGG = oddKeys(VGG)"
   ]
  },
  {
   "cell_type": "code",
   "execution_count": 9,
   "id": "1e9b84a4",
   "metadata": {},
   "outputs": [],
   "source": [
    "for variavel, FEATURE in [ [\"BSIF\", BSIF],[\"LBP\", LBP] ,[\"LPQ\", LPQ], [\"MobileNet\", MOBILENET] , [\"VGG16\", VGG]]:\n",
    "    for patch in [1, 3, 5, 10]:\n",
    "        patch_all = []\n",
    "        patch_five = []\n",
    "        for classe in range(1,81):\n",
    "            patch_all.append(FEATURE[classe][patch]['f1_all'])\n",
    "            patch_five.append(FEATURE[classe][patch]['f1_five'])\n",
    "        d[variavel]['PATCH '+str(patch)]['f1_all'] = patch_all\n",
    "        d[variavel]['PATCH '+str(patch)]['f1_five'] = patch_five"
   ]
  },
  {
   "cell_type": "markdown",
   "id": "36f0930a",
   "metadata": {},
   "source": [
    "# Resultado"
   ]
  },
  {
   "cell_type": "code",
   "execution_count": 10,
   "id": "9957f7c1",
   "metadata": {},
   "outputs": [
    {
     "data": {
      "text/html": [
       "<div>\n",
       "<style scoped>\n",
       "    .dataframe tbody tr th:only-of-type {\n",
       "        vertical-align: middle;\n",
       "    }\n",
       "\n",
       "    .dataframe tbody tr th {\n",
       "        vertical-align: top;\n",
       "    }\n",
       "\n",
       "    .dataframe thead th {\n",
       "        text-align: right;\n",
       "    }\n",
       "</style>\n",
       "<table border=\"1\" class=\"dataframe\">\n",
       "  <thead>\n",
       "    <tr style=\"text-align: right;\">\n",
       "      <th></th>\n",
       "      <th>0</th>\n",
       "      <th>1</th>\n",
       "      <th>2</th>\n",
       "      <th>3</th>\n",
       "      <th>4</th>\n",
       "    </tr>\n",
       "  </thead>\n",
       "  <tbody>\n",
       "    <tr>\n",
       "      <th>count</th>\n",
       "      <td>80.000000</td>\n",
       "      <td>80.000000</td>\n",
       "      <td>80.000000</td>\n",
       "      <td>80.000000</td>\n",
       "      <td>80.000000</td>\n",
       "    </tr>\n",
       "    <tr>\n",
       "      <th>mean</th>\n",
       "      <td>0.842508</td>\n",
       "      <td>0.854461</td>\n",
       "      <td>0.821901</td>\n",
       "      <td>0.856902</td>\n",
       "      <td>0.799453</td>\n",
       "    </tr>\n",
       "    <tr>\n",
       "      <th>std</th>\n",
       "      <td>0.118149</td>\n",
       "      <td>0.117510</td>\n",
       "      <td>0.110574</td>\n",
       "      <td>0.118489</td>\n",
       "      <td>0.116220</td>\n",
       "    </tr>\n",
       "    <tr>\n",
       "      <th>min</th>\n",
       "      <td>0.666667</td>\n",
       "      <td>0.666667</td>\n",
       "      <td>0.666667</td>\n",
       "      <td>0.757576</td>\n",
       "      <td>0.555556</td>\n",
       "    </tr>\n",
       "    <tr>\n",
       "      <th>25%</th>\n",
       "      <td>0.757576</td>\n",
       "      <td>0.757576</td>\n",
       "      <td>0.757576</td>\n",
       "      <td>0.757576</td>\n",
       "      <td>0.757576</td>\n",
       "    </tr>\n",
       "    <tr>\n",
       "      <th>50%</th>\n",
       "      <td>0.757576</td>\n",
       "      <td>0.757576</td>\n",
       "      <td>0.757576</td>\n",
       "      <td>0.757576</td>\n",
       "      <td>0.757576</td>\n",
       "    </tr>\n",
       "    <tr>\n",
       "      <th>75%</th>\n",
       "      <td>1.000000</td>\n",
       "      <td>1.000000</td>\n",
       "      <td>1.000000</td>\n",
       "      <td>1.000000</td>\n",
       "      <td>0.781145</td>\n",
       "    </tr>\n",
       "    <tr>\n",
       "      <th>max</th>\n",
       "      <td>1.000000</td>\n",
       "      <td>1.000000</td>\n",
       "      <td>1.000000</td>\n",
       "      <td>1.000000</td>\n",
       "      <td>1.000000</td>\n",
       "    </tr>\n",
       "  </tbody>\n",
       "</table>\n",
       "</div>"
      ],
      "text/plain": [
       "               0          1          2          3          4\n",
       "count  80.000000  80.000000  80.000000  80.000000  80.000000\n",
       "mean    0.842508   0.854461   0.821901   0.856902   0.799453\n",
       "std     0.118149   0.117510   0.110574   0.118489   0.116220\n",
       "min     0.666667   0.666667   0.666667   0.757576   0.555556\n",
       "25%     0.757576   0.757576   0.757576   0.757576   0.757576\n",
       "50%     0.757576   0.757576   0.757576   0.757576   0.757576\n",
       "75%     1.000000   1.000000   1.000000   1.000000   0.781145\n",
       "max     1.000000   1.000000   1.000000   1.000000   1.000000"
      ]
     },
     "execution_count": 10,
     "metadata": {},
     "output_type": "execute_result"
    }
   ],
   "source": [
    "pd.DataFrame(pd.DataFrame(d).loc[['PATCH 1']]['BSIF'][0]['f1_five']).describe()"
   ]
  },
  {
   "cell_type": "code",
   "execution_count": 11,
   "id": "c7aa11ea",
   "metadata": {
    "scrolled": true
   },
   "outputs": [
    {
     "data": {
      "text/html": [
       "<div>\n",
       "<style scoped>\n",
       "    .dataframe tbody tr th:only-of-type {\n",
       "        vertical-align: middle;\n",
       "    }\n",
       "\n",
       "    .dataframe tbody tr th {\n",
       "        vertical-align: top;\n",
       "    }\n",
       "\n",
       "    .dataframe thead th {\n",
       "        text-align: right;\n",
       "    }\n",
       "</style>\n",
       "<table border=\"1\" class=\"dataframe\">\n",
       "  <thead>\n",
       "    <tr style=\"text-align: right;\">\n",
       "      <th></th>\n",
       "      <th>0</th>\n",
       "      <th>1</th>\n",
       "      <th>2</th>\n",
       "      <th>3</th>\n",
       "      <th>4</th>\n",
       "    </tr>\n",
       "  </thead>\n",
       "  <tbody>\n",
       "    <tr>\n",
       "      <th>count</th>\n",
       "      <td>80.000000</td>\n",
       "      <td>80.000000</td>\n",
       "      <td>80.000000</td>\n",
       "      <td>80.000000</td>\n",
       "      <td>80.000000</td>\n",
       "    </tr>\n",
       "    <tr>\n",
       "      <th>mean</th>\n",
       "      <td>0.961526</td>\n",
       "      <td>0.961146</td>\n",
       "      <td>0.971023</td>\n",
       "      <td>0.969685</td>\n",
       "      <td>0.954528</td>\n",
       "    </tr>\n",
       "    <tr>\n",
       "      <th>std</th>\n",
       "      <td>0.031815</td>\n",
       "      <td>0.048345</td>\n",
       "      <td>0.018822</td>\n",
       "      <td>0.029614</td>\n",
       "      <td>0.046848</td>\n",
       "    </tr>\n",
       "    <tr>\n",
       "      <th>min</th>\n",
       "      <td>0.838309</td>\n",
       "      <td>0.756836</td>\n",
       "      <td>0.908121</td>\n",
       "      <td>0.828799</td>\n",
       "      <td>0.740625</td>\n",
       "    </tr>\n",
       "    <tr>\n",
       "      <th>25%</th>\n",
       "      <td>0.954645</td>\n",
       "      <td>0.958800</td>\n",
       "      <td>0.962179</td>\n",
       "      <td>0.967977</td>\n",
       "      <td>0.949026</td>\n",
       "    </tr>\n",
       "    <tr>\n",
       "      <th>50%</th>\n",
       "      <td>0.975000</td>\n",
       "      <td>0.981289</td>\n",
       "      <td>0.981090</td>\n",
       "      <td>0.981289</td>\n",
       "      <td>0.968631</td>\n",
       "    </tr>\n",
       "    <tr>\n",
       "      <th>75%</th>\n",
       "      <td>0.981289</td>\n",
       "      <td>0.981289</td>\n",
       "      <td>0.981289</td>\n",
       "      <td>0.981289</td>\n",
       "      <td>0.981289</td>\n",
       "    </tr>\n",
       "    <tr>\n",
       "      <th>max</th>\n",
       "      <td>1.000000</td>\n",
       "      <td>1.000000</td>\n",
       "      <td>1.000000</td>\n",
       "      <td>1.000000</td>\n",
       "      <td>1.000000</td>\n",
       "    </tr>\n",
       "  </tbody>\n",
       "</table>\n",
       "</div>"
      ],
      "text/plain": [
       "               0          1          2          3          4\n",
       "count  80.000000  80.000000  80.000000  80.000000  80.000000\n",
       "mean    0.961526   0.961146   0.971023   0.969685   0.954528\n",
       "std     0.031815   0.048345   0.018822   0.029614   0.046848\n",
       "min     0.838309   0.756836   0.908121   0.828799   0.740625\n",
       "25%     0.954645   0.958800   0.962179   0.967977   0.949026\n",
       "50%     0.975000   0.981289   0.981090   0.981289   0.968631\n",
       "75%     0.981289   0.981289   0.981289   0.981289   0.981289\n",
       "max     1.000000   1.000000   1.000000   1.000000   1.000000"
      ]
     },
     "execution_count": 11,
     "metadata": {},
     "output_type": "execute_result"
    }
   ],
   "source": [
    "pd.DataFrame(pd.DataFrame(d).loc[['PATCH 1']]['BSIF'][0]['f1_all']).describe()"
   ]
  },
  {
   "attachments": {
    "image.png": {
     "image/png": "[encoded data removed]"
    }
   },
   "cell_type": "markdown",
   "id": "edbf0dba",
   "metadata": {},
   "source": [
    "![image.png](attachment:image.png)\n",
    "\n",
    "__[0 , 1 , 2 , 3 , 4 ]__ -> `FOLDS`\n",
    "\n",
    "__Fold 1__ = Todos do *fold 1* foi a `test_x` `test_Y` e o restante foi o `train_x` `train_Y`\n",
    "\n",
    "__Fold 2__ = Todos do *fold 2* foi a `test_x` `test_Y` e o restante foi o `train_x` `train_Y`"
   ]
  },
  {
   "cell_type": "markdown",
   "id": "6f88d09a",
   "metadata": {},
   "source": [
    "1 - Faço uma media de todos os Folds ? ou deixo como na imagem ?"
   ]
  },
  {
   "cell_type": "code",
   "execution_count": 90,
   "id": "018d0be2",
   "metadata": {},
   "outputs": [
    {
     "data": {
      "text/plain": [
       "0.9706517884944699"
      ]
     },
     "execution_count": 90,
     "metadata": {},
     "output_type": "execute_result"
    }
   ],
   "source": [
    "pd.DataFrame(pd.DataFrame(d).loc[['PATCH 3']]['BSIF'][0]['f1_all']).describe().loc['mean'].mean()"
   ]
  },
  {
   "cell_type": "code",
   "execution_count": 91,
   "id": "73c7b097",
   "metadata": {
    "scrolled": true
   },
   "outputs": [
    {
     "data": {
      "text/plain": [
       "0.0047833319915803136"
      ]
     },
     "execution_count": 91,
     "metadata": {},
     "output_type": "execute_result"
    }
   ],
   "source": [
    "pd.DataFrame(pd.DataFrame(d).loc[['PATCH 3']]['BSIF'][0]['f1_all']).describe().loc['mean'].std()"
   ]
  },
  {
   "cell_type": "markdown",
   "id": "ab6e3418",
   "metadata": {},
   "source": [
    "# Gerar Tabelas"
   ]
  },
  {
   "cell_type": "code",
   "execution_count": 61,
   "id": "60e4bd7c",
   "metadata": {},
   "outputs": [],
   "source": [
    "from pyexcel_ods import get_data"
   ]
  },
  {
   "cell_type": "code",
   "execution_count": 63,
   "id": "b4029c19",
   "metadata": {},
   "outputs": [
    {
     "name": "stdout",
     "output_type": "stream",
     "text": [
      "{\"pagina1\": [[\"\", \"Patch 1\", \"Patch 3\", \"Patch 5\", \"Patch 10\"], [\"BSIF\", 5], [\"*\"], [\"LBP\", 5], [\"*\"], [\"LPQ\", 5], [\"*\"], [\"MOBILENET\", 5], [\"*\"], [\"VGG\", 5], [\"*\"], [], [], []]}\n"
     ]
    }
   ],
   "source": [
    "data = get_data(\"planilha.ods\")\n",
    "import json\n",
    "print(json.dumps(data))"
   ]
  },
  {
   "cell_type": "code",
   "execution_count": 56,
   "id": "6606e96b",
   "metadata": {},
   "outputs": [],
   "source": [
    "#! pip install pyexcel-ods"
   ]
  },
  {
   "cell_type": "code",
   "execution_count": 57,
   "id": "cbb00558",
   "metadata": {},
   "outputs": [],
   "source": [
    "#!pip install tabulate\n",
    "#from tabulate import tabulate"
   ]
  },
  {
   "cell_type": "code",
   "execution_count": 54,
   "id": "0c74bca2",
   "metadata": {},
   "outputs": [],
   "source": [
    "#pd.DataFrame(pd.DataFrame(d).loc[['PATCH 1']]['BSIF'][0]['f1_all']).describe().loc['mean'].mean()"
   ]
  },
  {
   "cell_type": "code",
   "execution_count": 13,
   "id": "bb5b9ac4",
   "metadata": {},
   "outputs": [
    {
     "name": "stdout",
     "output_type": "stream",
     "text": [
      "\n",
      "--------------------BSIF-------------------\n",
      "BSIF[PATCH 1]\n",
      "---- [f1_five] --- 0.84 +- 0.02\n",
      "BSIF[PATCH 1]\n",
      "---- [f1_all] --- 0.96 +- 0.01\n",
      "===============================\n",
      "BSIF[PATCH 3]\n",
      "---- [f1_five] --- 0.82 +- 0.01\n",
      "BSIF[PATCH 3]\n",
      "---- [f1_all] --- 0.97 +- 0.00\n",
      "===============================\n",
      "BSIF[PATCH 5]\n",
      "---- [f1_five] --- 0.82 +- 0.02\n",
      "BSIF[PATCH 5]\n",
      "---- [f1_all] --- 0.97 +- 0.00\n",
      "===============================\n",
      "BSIF[PATCH 10]\n",
      "---- [f1_five] --- 0.81 +- 0.01\n",
      "BSIF[PATCH 10]\n",
      "---- [f1_all] --- 0.98 +- 0.00\n",
      "===============================\n",
      "\n",
      "--------------------LBP-------------------\n",
      "LBP[PATCH 1]\n",
      "---- [f1_five] --- 0.83 +- 0.03\n",
      "LBP[PATCH 1]\n",
      "---- [f1_all] --- 0.96 +- 0.00\n",
      "===============================\n",
      "LBP[PATCH 3]\n",
      "---- [f1_five] --- 0.80 +- 0.02\n",
      "LBP[PATCH 3]\n",
      "---- [f1_all] --- 0.97 +- 0.00\n",
      "===============================\n",
      "LBP[PATCH 5]\n",
      "---- [f1_five] --- 0.80 +- 0.02\n",
      "LBP[PATCH 5]\n",
      "---- [f1_all] --- 0.98 +- 0.00\n",
      "===============================\n",
      "LBP[PATCH 10]\n",
      "---- [f1_five] --- 0.79 +- 0.01\n",
      "LBP[PATCH 10]\n",
      "---- [f1_all] --- 0.98 +- 0.00\n",
      "===============================\n",
      "\n",
      "--------------------LPQ-------------------\n",
      "LPQ[PATCH 1]\n",
      "---- [f1_five] --- 0.84 +- 0.03\n",
      "LPQ[PATCH 1]\n",
      "---- [f1_all] --- 0.96 +- 0.01\n",
      "===============================\n",
      "LPQ[PATCH 3]\n",
      "---- [f1_five] --- 0.82 +- 0.02\n",
      "LPQ[PATCH 3]\n",
      "---- [f1_all] --- 0.97 +- 0.00\n",
      "===============================\n",
      "LPQ[PATCH 5]\n",
      "---- [f1_five] --- 0.82 +- 0.02\n",
      "LPQ[PATCH 5]\n",
      "---- [f1_all] --- 0.97 +- 0.00\n",
      "===============================\n",
      "LPQ[PATCH 10]\n",
      "---- [f1_five] --- 0.80 +- 0.02\n",
      "LPQ[PATCH 10]\n",
      "---- [f1_all] --- 0.98 +- 0.00\n",
      "===============================\n",
      "\n",
      "--------------------MobileNet-------------------\n",
      "MobileNet[PATCH 1]\n",
      "---- [f1_five] --- 0.81 +- 0.02\n",
      "MobileNet[PATCH 1]\n",
      "---- [f1_all] --- 0.94 +- 0.01\n",
      "===============================\n",
      "MobileNet[PATCH 3]\n",
      "---- [f1_five] --- 0.89 +- 0.01\n",
      "MobileNet[PATCH 3]\n",
      "---- [f1_all] --- 0.97 +- 0.00\n",
      "===============================\n",
      "MobileNet[PATCH 5]\n",
      "---- [f1_five] --- 0.88 +- 0.02\n",
      "MobileNet[PATCH 5]\n",
      "---- [f1_all] --- 0.98 +- 0.00\n",
      "===============================\n",
      "MobileNet[PATCH 10]\n",
      "---- [f1_five] --- 0.88 +- 0.01\n",
      "MobileNet[PATCH 10]\n",
      "---- [f1_all] --- 0.98 +- 0.00\n",
      "===============================\n",
      "\n",
      "--------------------VGG16-------------------\n",
      "VGG16[PATCH 1]\n",
      "---- [f1_five] --- 0.81 +- 0.01\n",
      "VGG16[PATCH 1]\n",
      "---- [f1_all] --- 0.94 +- 0.01\n",
      "===============================\n",
      "VGG16[PATCH 3]\n",
      "---- [f1_five] --- 0.87 +- 0.01\n",
      "VGG16[PATCH 3]\n",
      "---- [f1_all] --- 0.97 +- 0.00\n",
      "===============================\n",
      "VGG16[PATCH 5]\n",
      "---- [f1_five] --- 0.90 +- 0.01\n",
      "VGG16[PATCH 5]\n",
      "---- [f1_all] --- 0.97 +- 0.00\n",
      "===============================\n",
      "VGG16[PATCH 10]\n",
      "---- [f1_five] --- 0.87 +- 0.01\n",
      "VGG16[PATCH 10]\n",
      "---- [f1_all] --- 0.98 +- 0.00\n",
      "===============================\n"
     ]
    }
   ],
   "source": [
    "for FEATURE in [ \"BSIF\", \"LBP\" , \"LPQ\", \"MobileNet\", \"VGG16\"]:\n",
    "    print(f\"\\n--------------------{FEATURE}-------------------\")\n",
    "    for PATCH in [\"PATCH 1\", \"PATCH 3\", \"PATCH 5\", \"PATCH 10\" ]:\n",
    "        for F1 in [\"f1_five\", \"f1_all\"]:\n",
    "            media = pd.DataFrame(pd.DataFrame(d).loc[[PATCH]][FEATURE][0][F1]).describe().loc['mean'].mean()\n",
    "            desvio = pd.DataFrame(pd.DataFrame(d).loc[[PATCH]][FEATURE][0][F1]).describe().loc['mean'].std()\n",
    "            print(f'{FEATURE}[{PATCH}]' )\n",
    "            print(f'---- [{F1}] --- {media:.2f} +- {desvio:.2f}')\n",
    "        print(\"===============================\")"
   ]
  },
  {
   "attachments": {
    "image.png": {
     "image/png": "[encoded data removed]"
    }
   },
   "cell_type": "markdown",
   "id": "15413792",
   "metadata": {},
   "source": [
    "![image.png](attachment:image.png)"
   ]
  },
  {
   "cell_type": "markdown",
   "id": "cd43f5a0",
   "metadata": {},
   "source": []
  }
 ],
 "metadata": {
  "kernelspec": {
   "display_name": "Python 3 (ipykernel)",
   "language": "python",
   "name": "python3"
  },
  "language_info": {
   "codemirror_mode": {
    "name": "ipython",
    "version": 3
   },
   "file_extension": ".py",
   "mimetype": "text/x-python",
   "name": "python",
   "nbconvert_exporter": "python",
   "pygments_lexer": "ipython3",
   "version": "3.9.7"
  }
 },
 "nbformat": 4,
 "nbformat_minor": 5
}
