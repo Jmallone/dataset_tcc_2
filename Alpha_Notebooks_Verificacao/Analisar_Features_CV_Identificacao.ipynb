{
 "cells": [
  {
   "cell_type": "code",
   "execution_count": 106,
   "id": "a7ef2ba4",
   "metadata": {},
   "outputs": [],
   "source": [
    "import pandas as pd\n",
    "import numpy as np\n",
    "import glob "
   ]
  },
  {
   "cell_type": "code",
   "execution_count": 107,
   "id": "647ea848",
   "metadata": {},
   "outputs": [
    {
     "data": {
      "text/plain": [
       "['resultados_npy_identicacao/LPQ_v2.npy',\n",
       " 'resultados_npy_identicacao/BSIF.npy',\n",
       " 'resultados_npy_identicacao/BSIF_v2.npy',\n",
       " 'resultados_npy_identicacao/VGG16_v2.npy',\n",
       " 'resultados_npy_identicacao/LBP_v2.npy',\n",
       " 'resultados_npy_identicacao/MobileNet_v2.npy',\n",
       " 'resultados_npy_identicacao/LBP.npy',\n",
       " 'resultados_npy_identicacao/VGG16.npy',\n",
       " 'resultados_npy_identicacao/LPQ.npy',\n",
       " 'resultados_npy_identicacao/MobileNet.npy']"
      ]
     },
     "execution_count": 107,
     "metadata": {},
     "output_type": "execute_result"
    }
   ],
   "source": [
    "arquivos = glob.glob('resultados_npy_identicacao/*')\n",
    "arquivos"
   ]
  },
  {
   "cell_type": "code",
   "execution_count": 108,
   "id": "8e4fa4a0",
   "metadata": {},
   "outputs": [],
   "source": [
    "BSIF = np.load('resultados_npy_identicacao/BSIF_v2.npy', allow_pickle=True)[0]\n",
    "LBP = np.load('resultados_npy_identicacao/LBP_v2.npy', allow_pickle=True)[0]\n",
    "LPQ = np.load('resultados_npy_identicacao/LPQ_v2.npy', allow_pickle=True)[0]\n",
    "MOBILENET = np.load('resultados_npy_identicacao/MobileNet_v2.npy', allow_pickle=True)[0]\n",
    "VGG = np.load('resultados_npy_identicacao/VGG16_v2.npy', allow_pickle=True)[0]"
   ]
  },
  {
   "cell_type": "code",
   "execution_count": 96,
   "id": "5daa0c56",
   "metadata": {
    "scrolled": true
   },
   "outputs": [
    {
     "data": {
      "text/html": [
       "<div>\n",
       "<style scoped>\n",
       "    .dataframe tbody tr th:only-of-type {\n",
       "        vertical-align: middle;\n",
       "    }\n",
       "\n",
       "    .dataframe tbody tr th {\n",
       "        vertical-align: top;\n",
       "    }\n",
       "\n",
       "    .dataframe thead th {\n",
       "        text-align: right;\n",
       "    }\n",
       "</style>\n",
       "<table border=\"1\" class=\"dataframe\">\n",
       "  <thead>\n",
       "    <tr style=\"text-align: right;\">\n",
       "      <th></th>\n",
       "      <th>1</th>\n",
       "      <th>3</th>\n",
       "      <th>5</th>\n",
       "      <th>10</th>\n",
       "    </tr>\n",
       "  </thead>\n",
       "  <tbody>\n",
       "    <tr>\n",
       "      <th>max_f1</th>\n",
       "      <td>[0.29166666666666663, 0.37583333333333335, 0.2...</td>\n",
       "      <td>[0.22857142857142856, 0.18214285714285713, 0.1...</td>\n",
       "      <td>[0.24145833333333327, 0.2566666666666667, 0.22...</td>\n",
       "      <td>[0.14893939393939393, 0.2510714285714286, 0.23...</td>\n",
       "    </tr>\n",
       "    <tr>\n",
       "      <th>sum_f1</th>\n",
       "      <td>[0.17232142857142857, 0.20229166666666668, 0.0...</td>\n",
       "      <td>[0.2579166666666667, 0.24749999999999997, 0.19...</td>\n",
       "      <td>[0.25148809523809523, 0.30333333333333334, 0.2...</td>\n",
       "      <td>[0.1525, 0.2727083333333333, 0.215625, 0.25749...</td>\n",
       "    </tr>\n",
       "    <tr>\n",
       "      <th>max_acc</th>\n",
       "      <td>[0.3375, 0.4625, 0.2875, 0.475, 0.175]</td>\n",
       "      <td>[0.3, 0.25, 0.2125, 0.2375, 0.15]</td>\n",
       "      <td>[0.3125, 0.325, 0.275, 0.275, 0.1125]</td>\n",
       "      <td>[0.2, 0.3125, 0.2875, 0.2875, 0.15]</td>\n",
       "    </tr>\n",
       "    <tr>\n",
       "      <th>sum_acc</th>\n",
       "      <td>[0.2375, 0.3, 0.0125, 0.2875, 0.125]</td>\n",
       "      <td>[0.3375, 0.3625, 0.25, 0.3625, 0.125]</td>\n",
       "      <td>[0.3125, 0.375, 0.275, 0.3875, 0.1625]</td>\n",
       "      <td>[0.2125, 0.35, 0.2625, 0.325, 0.125]</td>\n",
       "    </tr>\n",
       "  </tbody>\n",
       "</table>\n",
       "</div>"
      ],
      "text/plain": [
       "                                                        1   \\\n",
       "max_f1   [0.29166666666666663, 0.37583333333333335, 0.2...   \n",
       "sum_f1   [0.17232142857142857, 0.20229166666666668, 0.0...   \n",
       "max_acc             [0.3375, 0.4625, 0.2875, 0.475, 0.175]   \n",
       "sum_acc               [0.2375, 0.3, 0.0125, 0.2875, 0.125]   \n",
       "\n",
       "                                                        3   \\\n",
       "max_f1   [0.22857142857142856, 0.18214285714285713, 0.1...   \n",
       "sum_f1   [0.2579166666666667, 0.24749999999999997, 0.19...   \n",
       "max_acc                  [0.3, 0.25, 0.2125, 0.2375, 0.15]   \n",
       "sum_acc              [0.3375, 0.3625, 0.25, 0.3625, 0.125]   \n",
       "\n",
       "                                                        5   \\\n",
       "max_f1   [0.24145833333333327, 0.2566666666666667, 0.22...   \n",
       "sum_f1   [0.25148809523809523, 0.30333333333333334, 0.2...   \n",
       "max_acc              [0.3125, 0.325, 0.275, 0.275, 0.1125]   \n",
       "sum_acc             [0.3125, 0.375, 0.275, 0.3875, 0.1625]   \n",
       "\n",
       "                                                        10  \n",
       "max_f1   [0.14893939393939393, 0.2510714285714286, 0.23...  \n",
       "sum_f1   [0.1525, 0.2727083333333333, 0.215625, 0.25749...  \n",
       "max_acc                [0.2, 0.3125, 0.2875, 0.2875, 0.15]  \n",
       "sum_acc               [0.2125, 0.35, 0.2625, 0.325, 0.125]  "
      ]
     },
     "execution_count": 96,
     "metadata": {},
     "output_type": "execute_result"
    }
   ],
   "source": [
    "df = pd.DataFrame(BSIF)\n",
    "df"
   ]
  },
  {
   "cell_type": "code",
   "execution_count": 71,
   "id": "f852a5be",
   "metadata": {},
   "outputs": [
    {
     "data": {
      "text/plain": [
       "{1: {'max_f1': [0.43125,\n",
       "   0.46169642857142856,\n",
       "   0.4341666666666667,\n",
       "   0.4883333333333333,\n",
       "   0.46611111111111114],\n",
       "  'sum_f1': [0.0, 0.0125, 0.0, 0.0, 0.0],\n",
       "  'max_acc': [0.4875, 0.525, 0.4875, 0.5375, 0.5375],\n",
       "  'sum_acc': [0.0, 0.0125, 0.0, 0.0, 0.0]},\n",
       " 3: {'max_f1': [0.39291666666666664,\n",
       "   0.40982142857142856,\n",
       "   0.31273809523809526,\n",
       "   0.45,\n",
       "   0.46520833333333333],\n",
       "  'sum_f1': [0.0, 0.00625, 0.0, 0.008333333333333333, 0.0],\n",
       "  'max_acc': [0.45, 0.5, 0.375, 0.5125, 0.5375],\n",
       "  'sum_acc': [0.0, 0.0125, 0.0, 0.0125, 0.0]},\n",
       " 5: {'max_f1': [0.42940476190476184,\n",
       "   0.5397727272727273,\n",
       "   0.48273809523809524,\n",
       "   0.41125,\n",
       "   0.4894230769230769],\n",
       "  'sum_f1': [0.0, 0.0, 0.0, 0.0, 0.0],\n",
       "  'max_acc': [0.5, 0.6125, 0.55, 0.475, 0.55],\n",
       "  'sum_acc': [0.0, 0.0, 0.0, 0.0, 0.0]},\n",
       " 10: {'max_f1': [0.498015873015873,\n",
       "   0.4197916666666667,\n",
       "   0.5397916666666667,\n",
       "   0.46624999999999994,\n",
       "   0.4008333333333334],\n",
       "  'sum_f1': [0.0, 0.00625, 0.0, 0.0, 0.0],\n",
       "  'max_acc': [0.575, 0.5, 0.6, 0.525, 0.4875],\n",
       "  'sum_acc': [0.0, 0.0125, 0.0, 0.0, 0.0]}}"
      ]
     },
     "execution_count": 71,
     "metadata": {},
     "output_type": "execute_result"
    }
   ],
   "source": [
    "VGG"
   ]
  },
  {
   "cell_type": "code",
   "execution_count": 98,
   "id": "c432b23b",
   "metadata": {},
   "outputs": [
    {
     "data": {
      "text/plain": [
       "{1: {'max_f1': [0.43125,\n",
       "   0.46169642857142856,\n",
       "   0.4341666666666667,\n",
       "   0.4883333333333333,\n",
       "   0.46611111111111114],\n",
       "  'sum_f1': [0.25625,\n",
       "   0.31656249999999997,\n",
       "   0.24025641025641026,\n",
       "   0.37930555555555556,\n",
       "   0.3286111111111111],\n",
       "  'max_acc': [0.4875, 0.525, 0.4875, 0.5375, 0.5375],\n",
       "  'sum_acc': [0.325, 0.3875, 0.3125, 0.475, 0.4125]},\n",
       " 3: {'max_f1': [0.39291666666666664,\n",
       "   0.40982142857142856,\n",
       "   0.31273809523809526,\n",
       "   0.45,\n",
       "   0.46520833333333333],\n",
       "  'sum_f1': [0.516904761904762,\n",
       "   0.5770833333333333,\n",
       "   0.5125,\n",
       "   0.51125,\n",
       "   0.48500000000000004],\n",
       "  'max_acc': [0.45, 0.5, 0.375, 0.5125, 0.5375],\n",
       "  'sum_acc': [0.575, 0.65, 0.575, 0.6, 0.575]},\n",
       " 5: {'max_f1': [0.4383333333333333,\n",
       "   0.5418560606060606,\n",
       "   0.4856547619047619,\n",
       "   0.4125,\n",
       "   0.49874999999999997],\n",
       "  'sum_f1': [0.575, 0.6291666666666667, 0.5375, 0.5895833333333333, 0.5875],\n",
       "  'max_acc': [0.5125, 0.6125, 0.55, 0.475, 0.55],\n",
       "  'sum_acc': [0.625, 0.6875, 0.6125, 0.6625, 0.6625]},\n",
       " 10: {'max_f1': [0.498015873015873,\n",
       "   0.4197916666666667,\n",
       "   0.5397916666666667,\n",
       "   0.46624999999999994,\n",
       "   0.4008333333333334],\n",
       "  'sum_f1': [0.5966666666666667,\n",
       "   0.505,\n",
       "   0.6341666666666667,\n",
       "   0.5487500000000001,\n",
       "   0.5635416666666666],\n",
       "  'max_acc': [0.575, 0.5, 0.6, 0.525, 0.4875],\n",
       "  'sum_acc': [0.65, 0.6, 0.7, 0.625, 0.6375]}}"
      ]
     },
     "execution_count": 98,
     "metadata": {},
     "output_type": "execute_result"
    }
   ],
   "source": [
    "VGG"
   ]
  },
  {
   "cell_type": "code",
   "execution_count": 72,
   "id": "924aea79",
   "metadata": {},
   "outputs": [],
   "source": [
    "patch3 = []\n",
    "for classe in range(1,81):\n",
    "    patch3.append(VGG[3]['sum_f1']) # classe 1, patch 3, sum f1-score"
   ]
  },
  {
   "cell_type": "code",
   "execution_count": 76,
   "id": "a7e5fcc7",
   "metadata": {},
   "outputs": [
    {
     "data": {
      "text/plain": [
       "[[0.0, 0.00625, 0.0, 0.008333333333333333, 0.0]]"
      ]
     },
     "execution_count": 76,
     "metadata": {},
     "output_type": "execute_result"
    }
   ],
   "source": [
    "patch3"
   ]
  },
  {
   "cell_type": "code",
   "execution_count": 78,
   "id": "cece0f10",
   "metadata": {},
   "outputs": [],
   "source": [
    "for variavel, FEATURE in [[\"VGG16\", VGG]]:\n",
    "    for patch in [1, 3, 5, 10]:\n",
    "        patch_sum = []\n",
    "        patch_sum.append(FEATURE[patch]['sum_f1']) #patch , sum f1-score\n",
    "        d[variavel]['PATCH '+str(patch)]['sum_f1'] = patch_sum"
   ]
  },
  {
   "cell_type": "code",
   "execution_count": null,
   "id": "22fc2a2d",
   "metadata": {},
   "outputs": [],
   "source": []
  },
  {
   "cell_type": "code",
   "execution_count": 81,
   "id": "2b1b92a6",
   "metadata": {},
   "outputs": [
    {
     "data": {
      "text/plain": [
       "{1: {'max_f1': [0.43125,\n",
       "   0.46169642857142856,\n",
       "   0.4341666666666667,\n",
       "   0.4883333333333333,\n",
       "   0.46611111111111114],\n",
       "  'sum_f1': [0.0, 0.0125, 0.0, 0.0, 0.0],\n",
       "  'max_acc': [0.4875, 0.525, 0.4875, 0.5375, 0.5375],\n",
       "  'sum_acc': [0.0, 0.0125, 0.0, 0.0, 0.0]},\n",
       " 3: {'max_f1': [0.39291666666666664,\n",
       "   0.40982142857142856,\n",
       "   0.31273809523809526,\n",
       "   0.45,\n",
       "   0.46520833333333333],\n",
       "  'sum_f1': [0.0, 0.00625, 0.0, 0.008333333333333333, 0.0],\n",
       "  'max_acc': [0.45, 0.5, 0.375, 0.5125, 0.5375],\n",
       "  'sum_acc': [0.0, 0.0125, 0.0, 0.0125, 0.0]},\n",
       " 5: {'max_f1': [0.42940476190476184,\n",
       "   0.5397727272727273,\n",
       "   0.48273809523809524,\n",
       "   0.41125,\n",
       "   0.4894230769230769],\n",
       "  'sum_f1': [0.0, 0.0, 0.0, 0.0, 0.0],\n",
       "  'max_acc': [0.5, 0.6125, 0.55, 0.475, 0.55],\n",
       "  'sum_acc': [0.0, 0.0, 0.0, 0.0, 0.0]},\n",
       " 10: {'max_f1': [0.498015873015873,\n",
       "   0.4197916666666667,\n",
       "   0.5397916666666667,\n",
       "   0.46624999999999994,\n",
       "   0.4008333333333334],\n",
       "  'sum_f1': [0.0, 0.00625, 0.0, 0.0, 0.0],\n",
       "  'max_acc': [0.575, 0.5, 0.6, 0.525, 0.4875],\n",
       "  'sum_acc': [0.0, 0.0125, 0.0, 0.0, 0.0]}}"
      ]
     },
     "execution_count": 81,
     "metadata": {},
     "output_type": "execute_result"
    }
   ],
   "source": [
    "VGG"
   ]
  },
  {
   "cell_type": "code",
   "execution_count": 79,
   "id": "e46ef745",
   "metadata": {},
   "outputs": [
    {
     "data": {
      "text/plain": [
       "{'BSIF': {'PATCH 1': {'sum_f1': {}},\n",
       "  'PATCH 3': {'sum_f1': {}},\n",
       "  'PATCH 5': {'sum_f1': {}},\n",
       "  'PATCH 10': {'sum_f1': {}}},\n",
       " 'LBP': {'PATCH 1': {'sum_f1': {}},\n",
       "  'PATCH 3': {'sum_f1': {}},\n",
       "  'PATCH 5': {'sum_f1': {}},\n",
       "  'PATCH 10': {'sum_f1': {}}},\n",
       " 'LPQ': {'PATCH 1': {'sum_f1': {}},\n",
       "  'PATCH 3': {'sum_f1': {}},\n",
       "  'PATCH 5': {'sum_f1': {}},\n",
       "  'PATCH 10': {'sum_f1': {}}},\n",
       " 'MobileNet': {'PATCH 1': {'sum_f1': {}},\n",
       "  'PATCH 3': {'sum_f1': {}},\n",
       "  'PATCH 5': {'sum_f1': {}},\n",
       "  'PATCH 10': {'sum_f1': {}}},\n",
       " 'VGG16': {'PATCH 1': {'sum_f1': [[0.0, 0.0125, 0.0, 0.0, 0.0]]},\n",
       "  'PATCH 3': {'sum_f1': [[0.0, 0.00625, 0.0, 0.008333333333333333, 0.0]]},\n",
       "  'PATCH 5': {'sum_f1': [[0.0, 0.0, 0.0, 0.0, 0.0]]},\n",
       "  'PATCH 10': {'sum_f1': [[0.0, 0.00625, 0.0, 0.0, 0.0]]}}}"
      ]
     },
     "execution_count": 79,
     "metadata": {},
     "output_type": "execute_result"
    }
   ],
   "source": [
    "d"
   ]
  },
  {
   "cell_type": "code",
   "execution_count": 75,
   "id": "53329998",
   "metadata": {},
   "outputs": [
    {
     "data": {
      "text/html": [
       "<div>\n",
       "<style scoped>\n",
       "    .dataframe tbody tr th:only-of-type {\n",
       "        vertical-align: middle;\n",
       "    }\n",
       "\n",
       "    .dataframe tbody tr th {\n",
       "        vertical-align: top;\n",
       "    }\n",
       "\n",
       "    .dataframe thead th {\n",
       "        text-align: right;\n",
       "    }\n",
       "</style>\n",
       "<table border=\"1\" class=\"dataframe\">\n",
       "  <thead>\n",
       "    <tr style=\"text-align: right;\">\n",
       "      <th></th>\n",
       "      <th>0</th>\n",
       "      <th>1</th>\n",
       "      <th>2</th>\n",
       "      <th>3</th>\n",
       "      <th>4</th>\n",
       "    </tr>\n",
       "  </thead>\n",
       "  <tbody>\n",
       "    <tr>\n",
       "      <th>count</th>\n",
       "      <td>1.0</td>\n",
       "      <td>1.00000</td>\n",
       "      <td>1.0</td>\n",
       "      <td>1.000000</td>\n",
       "      <td>1.0</td>\n",
       "    </tr>\n",
       "    <tr>\n",
       "      <th>mean</th>\n",
       "      <td>0.0</td>\n",
       "      <td>0.00625</td>\n",
       "      <td>0.0</td>\n",
       "      <td>0.008333</td>\n",
       "      <td>0.0</td>\n",
       "    </tr>\n",
       "    <tr>\n",
       "      <th>std</th>\n",
       "      <td>NaN</td>\n",
       "      <td>NaN</td>\n",
       "      <td>NaN</td>\n",
       "      <td>NaN</td>\n",
       "      <td>NaN</td>\n",
       "    </tr>\n",
       "    <tr>\n",
       "      <th>min</th>\n",
       "      <td>0.0</td>\n",
       "      <td>0.00625</td>\n",
       "      <td>0.0</td>\n",
       "      <td>0.008333</td>\n",
       "      <td>0.0</td>\n",
       "    </tr>\n",
       "    <tr>\n",
       "      <th>25%</th>\n",
       "      <td>0.0</td>\n",
       "      <td>0.00625</td>\n",
       "      <td>0.0</td>\n",
       "      <td>0.008333</td>\n",
       "      <td>0.0</td>\n",
       "    </tr>\n",
       "    <tr>\n",
       "      <th>50%</th>\n",
       "      <td>0.0</td>\n",
       "      <td>0.00625</td>\n",
       "      <td>0.0</td>\n",
       "      <td>0.008333</td>\n",
       "      <td>0.0</td>\n",
       "    </tr>\n",
       "    <tr>\n",
       "      <th>75%</th>\n",
       "      <td>0.0</td>\n",
       "      <td>0.00625</td>\n",
       "      <td>0.0</td>\n",
       "      <td>0.008333</td>\n",
       "      <td>0.0</td>\n",
       "    </tr>\n",
       "    <tr>\n",
       "      <th>max</th>\n",
       "      <td>0.0</td>\n",
       "      <td>0.00625</td>\n",
       "      <td>0.0</td>\n",
       "      <td>0.008333</td>\n",
       "      <td>0.0</td>\n",
       "    </tr>\n",
       "  </tbody>\n",
       "</table>\n",
       "</div>"
      ],
      "text/plain": [
       "         0        1    2         3    4\n",
       "count  1.0  1.00000  1.0  1.000000  1.0\n",
       "mean   0.0  0.00625  0.0  0.008333  0.0\n",
       "std    NaN      NaN  NaN       NaN  NaN\n",
       "min    0.0  0.00625  0.0  0.008333  0.0\n",
       "25%    0.0  0.00625  0.0  0.008333  0.0\n",
       "50%    0.0  0.00625  0.0  0.008333  0.0\n",
       "75%    0.0  0.00625  0.0  0.008333  0.0\n",
       "max    0.0  0.00625  0.0  0.008333  0.0"
      ]
     },
     "execution_count": 75,
     "metadata": {},
     "output_type": "execute_result"
    }
   ],
   "source": [
    "BSIF_p3_ = pd.DataFrame(patch3)\n",
    "BSIF_p3_.describe()"
   ]
  },
  {
   "cell_type": "markdown",
   "id": "98f0084c",
   "metadata": {},
   "source": [
    "# Generalizando"
   ]
  },
  {
   "cell_type": "code",
   "execution_count": 109,
   "id": "745abc93",
   "metadata": {},
   "outputs": [],
   "source": [
    "d = {\n",
    "    'BSIF': {\n",
    "        'PATCH 1': {'sum_f1': {} },\n",
    "        'PATCH 3': {'sum_f1': {} }, \n",
    "        'PATCH 5': {'sum_f1': {} }, \n",
    "        'PATCH 10': {'sum_f1':{} }},\n",
    "\n",
    "    'LBP': {\n",
    "        'PATCH 1': {'sum_f1': {} },\n",
    "        'PATCH 3': {'sum_f1': {} }, \n",
    "        'PATCH 5': {'sum_f1': {} }, \n",
    "        'PATCH 10': {'sum_f1':{} }},\n",
    "    \n",
    "    'LPQ': {\n",
    "        'PATCH 1': {'sum_f1': {} },\n",
    "        'PATCH 3': {'sum_f1': {} }, \n",
    "        'PATCH 5': {'sum_f1': {} }, \n",
    "        'PATCH 10': {'sum_f1':{} }},\n",
    "    \n",
    "    'MobileNet': {\n",
    "        'PATCH 1': {'sum_f1': {} },\n",
    "        'PATCH 3': {'sum_f1': {} }, \n",
    "        'PATCH 5': {'sum_f1': {} }, \n",
    "        'PATCH 10': {'sum_f1':{} }},\n",
    "    \n",
    "    'VGG16': {\n",
    "        'PATCH 1': {'sum_f1': {} },\n",
    "        'PATCH 3': {'sum_f1': {} }, \n",
    "        'PATCH 5': {'sum_f1': {} }, \n",
    "        'PATCH 10': {'sum_f1':{} },\n",
    "    }\n",
    "}"
   ]
  },
  {
   "cell_type": "code",
   "execution_count": 110,
   "id": "8ca5fb74",
   "metadata": {},
   "outputs": [],
   "source": [
    "for variavel, FEATURE in [ [\"BSIF\", BSIF],[\"LBP\", LBP] ,[\"LPQ\", LPQ], [\"MobileNet\", MOBILENET] , [\"VGG16\", VGG]]:\n",
    "    for patch in [1, 3, 5, 10]:\n",
    "        patch_sum = []\n",
    "        patch_sum.append(FEATURE[patch]['sum_f1']) #patch , sum f1-score\n",
    "        d[variavel]['PATCH '+str(patch)]['sum_f1'] = patch_sum"
   ]
  },
  {
   "cell_type": "code",
   "execution_count": 111,
   "id": "13b82094",
   "metadata": {},
   "outputs": [
    {
     "data": {
      "text/plain": [
       "{'BSIF': {'PATCH 1': {'sum_f1': [[0.17232142857142857,\n",
       "     0.20229166666666668,\n",
       "     0.0125,\n",
       "     0.19666666666666666,\n",
       "     0.07523809523809524]]},\n",
       "  'PATCH 3': {'sum_f1': [[0.2579166666666667,\n",
       "     0.24749999999999997,\n",
       "     0.19875,\n",
       "     0.2719047619047619,\n",
       "     0.08333333333333333]]},\n",
       "  'PATCH 5': {'sum_f1': [[0.25148809523809523,\n",
       "     0.30333333333333334,\n",
       "     0.2020833333333333,\n",
       "     0.3231547619047619,\n",
       "     0.12583333333333332]]},\n",
       "  'PATCH 10': {'sum_f1': [[0.1525,\n",
       "     0.2727083333333333,\n",
       "     0.215625,\n",
       "     0.25749999999999995,\n",
       "     0.09527777777777777]]}},\n",
       " 'LBP': {'PATCH 1': {'sum_f1': [[0.1739583333333333,\n",
       "     0.01875,\n",
       "     0.0125,\n",
       "     0.17791666666666667,\n",
       "     0.10583333333333331]]},\n",
       "  'PATCH 3': {'sum_f1': [[0.29357142857142854,\n",
       "     0.2262797619047619,\n",
       "     0.21333333333333332,\n",
       "     0.30357142857142855,\n",
       "     0.11750000000000001]]},\n",
       "  'PATCH 5': {'sum_f1': [[0.3106944444444445,\n",
       "     0.27458333333333335,\n",
       "     0.20023809523809524,\n",
       "     0.27999999999999997,\n",
       "     0.15375]]},\n",
       "  'PATCH 10': {'sum_f1': [[0.2815277777777777,\n",
       "     0.26089285714285715,\n",
       "     0.17770833333333333,\n",
       "     0.2933333333333333,\n",
       "     0.12291666666666665]]}},\n",
       " 'LPQ': {'PATCH 1': {'sum_f1': [[0.195,\n",
       "     0.15287698412698414,\n",
       "     0.17041666666666663,\n",
       "     0.24819444444444444,\n",
       "     0.05544642857142858]]},\n",
       "  'PATCH 3': {'sum_f1': [[0.2945833333333333,\n",
       "     0.23523809523809525,\n",
       "     0.2508333333333333,\n",
       "     0.23291666666666666,\n",
       "     0.12083333333333332]]},\n",
       "  'PATCH 5': {'sum_f1': [[0.31148809523809523,\n",
       "     0.2695833333333333,\n",
       "     0.2458333333333333,\n",
       "     0.31833333333333336,\n",
       "     0.10732142857142857]]},\n",
       "  'PATCH 10': {'sum_f1': [[0.24958333333333332,\n",
       "     0.25315476190476194,\n",
       "     0.2820833333333333,\n",
       "     0.30375,\n",
       "     0.14166666666666666]]}},\n",
       " 'MobileNet': {'PATCH 1': {'sum_f1': [[0.4083333333333333,\n",
       "     0.3510714285714286,\n",
       "     0.4604166666666666,\n",
       "     0.3995833333333333,\n",
       "     0.37416666666666665]]},\n",
       "  'PATCH 3': {'sum_f1': [[0.4716666666666667,\n",
       "     0.51875,\n",
       "     0.5216666666666667,\n",
       "     0.64375,\n",
       "     0.446875]]},\n",
       "  'PATCH 5': {'sum_f1': [[0.5245833333333334,\n",
       "     0.4920833333333333,\n",
       "     0.5125,\n",
       "     0.5958333333333334,\n",
       "     0.51875]]},\n",
       "  'PATCH 10': {'sum_f1': [[0.5202380952380953,\n",
       "     0.6166666666666667,\n",
       "     0.5645833333333333,\n",
       "     0.6514880952380953,\n",
       "     0.5569444444444445]]}},\n",
       " 'VGG16': {'PATCH 1': {'sum_f1': [[0.25625,\n",
       "     0.31656249999999997,\n",
       "     0.24025641025641026,\n",
       "     0.37930555555555556,\n",
       "     0.3286111111111111]]},\n",
       "  'PATCH 3': {'sum_f1': [[0.516904761904762,\n",
       "     0.5770833333333333,\n",
       "     0.5125,\n",
       "     0.51125,\n",
       "     0.48500000000000004]]},\n",
       "  'PATCH 5': {'sum_f1': [[0.575,\n",
       "     0.6291666666666667,\n",
       "     0.5375,\n",
       "     0.5895833333333333,\n",
       "     0.5875]]},\n",
       "  'PATCH 10': {'sum_f1': [[0.5966666666666667,\n",
       "     0.505,\n",
       "     0.6341666666666667,\n",
       "     0.5487500000000001,\n",
       "     0.5635416666666666]]}}}"
      ]
     },
     "execution_count": 111,
     "metadata": {},
     "output_type": "execute_result"
    }
   ],
   "source": [
    "d"
   ]
  },
  {
   "cell_type": "markdown",
   "id": "27c70290",
   "metadata": {},
   "source": [
    "# Gerar Tabelas"
   ]
  },
  {
   "cell_type": "code",
   "execution_count": 102,
   "id": "2b2226f7",
   "metadata": {},
   "outputs": [
    {
     "data": {
      "text/plain": [
       "{'PATCH 1': {'sum_f1': [[0.25625,\n",
       "    0.31656249999999997,\n",
       "    0.24025641025641026,\n",
       "    0.37930555555555556,\n",
       "    0.3286111111111111]]},\n",
       " 'PATCH 3': {'sum_f1': [[0.516904761904762,\n",
       "    0.5770833333333333,\n",
       "    0.5125,\n",
       "    0.51125,\n",
       "    0.48500000000000004]]},\n",
       " 'PATCH 5': {'sum_f1': [[0.575,\n",
       "    0.6291666666666667,\n",
       "    0.5375,\n",
       "    0.5895833333333333,\n",
       "    0.5875]]},\n",
       " 'PATCH 10': {'sum_f1': [[0.5966666666666667,\n",
       "    0.505,\n",
       "    0.6341666666666667,\n",
       "    0.5487500000000001,\n",
       "    0.5635416666666666]]}}"
      ]
     },
     "execution_count": 102,
     "metadata": {},
     "output_type": "execute_result"
    }
   ],
   "source": [
    "d['VGG16']"
   ]
  },
  {
   "cell_type": "code",
   "execution_count": 86,
   "id": "2b031b85",
   "metadata": {},
   "outputs": [
    {
     "data": {
      "text/plain": [
       "[[0.0, 0.0125, 0.0, 0.0, 0.0]]"
      ]
     },
     "execution_count": 86,
     "metadata": {},
     "output_type": "execute_result"
    }
   ],
   "source": [
    "(pd.DataFrame(d).loc[['PATCH 1']]['VGG16'][0]['sum_f1'])"
   ]
  },
  {
   "cell_type": "code",
   "execution_count": 112,
   "id": "63611508",
   "metadata": {},
   "outputs": [
    {
     "data": {
      "text/plain": [
       "[[0.25625,\n",
       "  0.31656249999999997,\n",
       "  0.24025641025641026,\n",
       "  0.37930555555555556,\n",
       "  0.3286111111111111]]"
      ]
     },
     "execution_count": 112,
     "metadata": {},
     "output_type": "execute_result"
    }
   ],
   "source": [
    "(pd.DataFrame(d).loc[['PATCH 1']]['VGG16'][0]['sum_f1'])"
   ]
  },
  {
   "cell_type": "code",
   "execution_count": 113,
   "id": "20a3efc8",
   "metadata": {},
   "outputs": [
    {
     "data": {
      "text/html": [
       "<div>\n",
       "<style scoped>\n",
       "    .dataframe tbody tr th:only-of-type {\n",
       "        vertical-align: middle;\n",
       "    }\n",
       "\n",
       "    .dataframe tbody tr th {\n",
       "        vertical-align: top;\n",
       "    }\n",
       "\n",
       "    .dataframe thead th {\n",
       "        text-align: right;\n",
       "    }\n",
       "</style>\n",
       "<table border=\"1\" class=\"dataframe\">\n",
       "  <thead>\n",
       "    <tr style=\"text-align: right;\">\n",
       "      <th></th>\n",
       "      <th>0</th>\n",
       "      <th>1</th>\n",
       "      <th>2</th>\n",
       "      <th>3</th>\n",
       "      <th>4</th>\n",
       "    </tr>\n",
       "  </thead>\n",
       "  <tbody>\n",
       "    <tr>\n",
       "      <th>count</th>\n",
       "      <td>1.000000</td>\n",
       "      <td>1.000000</td>\n",
       "      <td>1.0000</td>\n",
       "      <td>1.000000</td>\n",
       "      <td>1.000000</td>\n",
       "    </tr>\n",
       "    <tr>\n",
       "      <th>mean</th>\n",
       "      <td>0.172321</td>\n",
       "      <td>0.202292</td>\n",
       "      <td>0.0125</td>\n",
       "      <td>0.196667</td>\n",
       "      <td>0.075238</td>\n",
       "    </tr>\n",
       "    <tr>\n",
       "      <th>std</th>\n",
       "      <td>NaN</td>\n",
       "      <td>NaN</td>\n",
       "      <td>NaN</td>\n",
       "      <td>NaN</td>\n",
       "      <td>NaN</td>\n",
       "    </tr>\n",
       "    <tr>\n",
       "      <th>min</th>\n",
       "      <td>0.172321</td>\n",
       "      <td>0.202292</td>\n",
       "      <td>0.0125</td>\n",
       "      <td>0.196667</td>\n",
       "      <td>0.075238</td>\n",
       "    </tr>\n",
       "    <tr>\n",
       "      <th>25%</th>\n",
       "      <td>0.172321</td>\n",
       "      <td>0.202292</td>\n",
       "      <td>0.0125</td>\n",
       "      <td>0.196667</td>\n",
       "      <td>0.075238</td>\n",
       "    </tr>\n",
       "    <tr>\n",
       "      <th>50%</th>\n",
       "      <td>0.172321</td>\n",
       "      <td>0.202292</td>\n",
       "      <td>0.0125</td>\n",
       "      <td>0.196667</td>\n",
       "      <td>0.075238</td>\n",
       "    </tr>\n",
       "    <tr>\n",
       "      <th>75%</th>\n",
       "      <td>0.172321</td>\n",
       "      <td>0.202292</td>\n",
       "      <td>0.0125</td>\n",
       "      <td>0.196667</td>\n",
       "      <td>0.075238</td>\n",
       "    </tr>\n",
       "    <tr>\n",
       "      <th>max</th>\n",
       "      <td>0.172321</td>\n",
       "      <td>0.202292</td>\n",
       "      <td>0.0125</td>\n",
       "      <td>0.196667</td>\n",
       "      <td>0.075238</td>\n",
       "    </tr>\n",
       "  </tbody>\n",
       "</table>\n",
       "</div>"
      ],
      "text/plain": [
       "              0         1       2         3         4\n",
       "count  1.000000  1.000000  1.0000  1.000000  1.000000\n",
       "mean   0.172321  0.202292  0.0125  0.196667  0.075238\n",
       "std         NaN       NaN     NaN       NaN       NaN\n",
       "min    0.172321  0.202292  0.0125  0.196667  0.075238\n",
       "25%    0.172321  0.202292  0.0125  0.196667  0.075238\n",
       "50%    0.172321  0.202292  0.0125  0.196667  0.075238\n",
       "75%    0.172321  0.202292  0.0125  0.196667  0.075238\n",
       "max    0.172321  0.202292  0.0125  0.196667  0.075238"
      ]
     },
     "execution_count": 113,
     "metadata": {},
     "output_type": "execute_result"
    }
   ],
   "source": [
    "pd.DataFrame(pd.DataFrame(d).loc[['PATCH 1']]['BSIF'][0]['sum_f1']).describe()"
   ]
  },
  {
   "cell_type": "code",
   "execution_count": 114,
   "id": "1565d889",
   "metadata": {},
   "outputs": [
    {
     "name": "stdout",
     "output_type": "stream",
     "text": [
      "\n",
      "--------------------BSIF-------------------\n",
      "BSIF[PATCH 1]\n",
      "----  --- 0.1318 +- 0.0840\n",
      "===============================\n",
      "BSIF[PATCH 3]\n",
      "----  --- 0.2119 +- 0.0770\n",
      "===============================\n",
      "BSIF[PATCH 5]\n",
      "----  --- 0.2412 +- 0.0799\n",
      "===============================\n",
      "BSIF[PATCH 10]\n",
      "----  --- 0.1987 +- 0.0742\n",
      "===============================\n",
      "\n",
      "--------------------LBP-------------------\n",
      "LBP[PATCH 1]\n",
      "----  --- 0.0978 +- 0.0803\n",
      "===============================\n",
      "LBP[PATCH 3]\n",
      "----  --- 0.2309 +- 0.0748\n",
      "===============================\n",
      "LBP[PATCH 5]\n",
      "----  --- 0.2439 +- 0.0647\n",
      "===============================\n",
      "LBP[PATCH 10]\n",
      "----  --- 0.2273 +- 0.0738\n",
      "===============================\n",
      "\n",
      "--------------------LPQ-------------------\n",
      "LPQ[PATCH 1]\n",
      "----  --- 0.1644 +- 0.0707\n",
      "===============================\n",
      "LPQ[PATCH 3]\n",
      "----  --- 0.2269 +- 0.0642\n",
      "===============================\n",
      "LPQ[PATCH 5]\n",
      "----  --- 0.2505 +- 0.0855\n",
      "===============================\n",
      "LPQ[PATCH 10]\n",
      "----  --- 0.2460 +- 0.0624\n",
      "===============================\n",
      "\n",
      "--------------------MobileNet-------------------\n",
      "MobileNet[PATCH 1]\n",
      "----  --- 0.3987 +- 0.0411\n",
      "===============================\n",
      "MobileNet[PATCH 3]\n",
      "----  --- 0.5205 +- 0.0758\n",
      "===============================\n",
      "MobileNet[PATCH 5]\n",
      "----  --- 0.5287 +- 0.0395\n",
      "===============================\n",
      "MobileNet[PATCH 10]\n",
      "----  --- 0.5820 +- 0.0519\n",
      "===============================\n",
      "\n",
      "--------------------VGG16-------------------\n",
      "VGG16[PATCH 1]\n",
      "----  --- 0.3042 +- 0.0565\n",
      "===============================\n",
      "VGG16[PATCH 3]\n",
      "----  --- 0.5205 +- 0.0340\n",
      "===============================\n",
      "VGG16[PATCH 5]\n",
      "----  --- 0.5837 +- 0.0329\n",
      "===============================\n",
      "VGG16[PATCH 10]\n",
      "----  --- 0.5696 +- 0.0489\n",
      "===============================\n"
     ]
    }
   ],
   "source": [
    "for FEATURE in [ \"BSIF\", \"LBP\" , \"LPQ\", \"MobileNet\", \"VGG16\"]:\n",
    "    print(f\"\\n--------------------{FEATURE}-------------------\")\n",
    "    for PATCH in [\"PATCH 1\", \"PATCH 3\", \"PATCH 5\", \"PATCH 10\" ]:\n",
    "        media = pd.DataFrame(pd.DataFrame(d).loc[[PATCH]][FEATURE][0]['sum_f1']).describe().loc['mean'].mean()\n",
    "        desvio = pd.DataFrame(pd.DataFrame(d).loc[[PATCH]][FEATURE][0]['sum_f1']).describe().loc['mean'].std()\n",
    "        print(f'{FEATURE}[{PATCH}]' )\n",
    "        print(f'----  --- {media:.4f} +- {desvio:.4f}')\n",
    "        print(\"===============================\")"
   ]
  }
 ],
 "metadata": {
  "kernelspec": {
   "display_name": "Python 3 (ipykernel)",
   "language": "python",
   "name": "python3"
  },
  "language_info": {
   "codemirror_mode": {
    "name": "ipython",
    "version": 3
   },
   "file_extension": ".py",
   "mimetype": "text/x-python",
   "name": "python",
   "nbconvert_exporter": "python",
   "pygments_lexer": "ipython3",
   "version": "3.9.7"
  }
 },
 "nbformat": 4,
 "nbformat_minor": 5
}
